{
 "cells": [
  {
   "cell_type": "markdown",
   "id": "9f9fe9c9-36e1-4691-a383-ef1b747857ee",
   "metadata": {},
   "source": [
    "# Regular Expression Practice Questions"
   ]
  },
  {
   "cell_type": "code",
   "execution_count": 50,
   "id": "fe02b22a-73eb-4fef-a7bc-20ddf7f9f17c",
   "metadata": {},
   "outputs": [],
   "source": [
    "import re"
   ]
  },
  {
   "cell_type": "code",
   "execution_count": 115,
   "id": "dfb8186a-0cfe-4f20-899e-ac3b925e0b45",
   "metadata": {},
   "outputs": [],
   "source": [
    "# Making a function to make testing easier!\n",
    "def use():\n",
    "    new_list = [] \n",
    "    n = int(input(\"Input number of values: \"))\n",
    "    for i in range(n):\n",
    "        value = input(\"Input value: \")\n",
    "        new_list.append(value)\n",
    "    matches = [s for s in new_list if re.fullmatch(pattern, s)]\n",
    "    return matches\n",
    "\n",
    "def match(pattern,str):\n",
    "    if re.search(pattern, str):\n",
    "        return 'Found a match!'\n",
    "    else:\n",
    "        return 'Not matched!'\n",
    "\n",
    "# Note : Bob is a refrence from \"Bob the builder\""
   ]
  },
  {
   "cell_type": "markdown",
   "id": "636ff1ea-ced2-44e1-a50e-c6ae064495bf",
   "metadata": {},
   "source": [
    "##### Question 1- Write a RegEx pattern in python program to check that a string contains only a certain set of characters (in this case a-z, A-Z and 0-9)."
   ]
  },
  {
   "cell_type": "code",
   "execution_count": 44,
   "id": "570282cd-1072-437d-bd37-f75b48202b49",
   "metadata": {},
   "outputs": [
    {
     "name": "stdin",
     "output_type": "stream",
     "text": [
      "Enter :  @#$21\n"
     ]
    },
    {
     "name": "stdout",
     "output_type": "stream",
     "text": [
      "Please! Enter in valid format.\n"
     ]
    }
   ],
   "source": [
    "# allowed pattern \n",
    "pattern = r'^[a-zA-Z0-9]+$'\n",
    "allowed_pattern = re.compile(pattern) #setting a crietaria\n",
    "\n",
    "str = input(\"Enter : \")\n",
    "\n",
    "if allowed_pattern.match(str):  #checking wheater if str matches \n",
    "    print( True )\n",
    "else:\n",
    "    print( \"Please! Enter in valid format.\" )"
   ]
  },
  {
   "cell_type": "markdown",
   "id": "1f219bd4-bf33-475b-a9f2-ce0204e229c7",
   "metadata": {},
   "source": [
    "##### Question 2- Write a RegEx pattern that matches a string that has an a followed by zero or more b's"
   ]
  },
  {
   "cell_type": "code",
   "execution_count": 73,
   "id": "31272985-e07d-41d2-9497-ea9bdb001c61",
   "metadata": {},
   "outputs": [
    {
     "name": "stdin",
     "output_type": "stream",
     "text": [
      "Input number of values:  5\n",
      "Input value:  bob\n",
      "Input value:  booobbbbbbb\n",
      "Input value:  bobbbbbbbbbbb\n",
      "Input value:  bbbbbbbbob\n",
      "Input value:  @!$@TDSGWEtqew34\n"
     ]
    },
    {
     "name": "stdout",
     "output_type": "stream",
     "text": [
      "Matches: ['bob', 'bobbbbbbbbbbb']\n"
     ]
    }
   ],
   "source": [
    "pattern = r'bobb*'\n",
    "\n",
    "# Use\n",
    "result = use()\n",
    "print(\"Matches:\", result)"
   ]
  },
  {
   "cell_type": "markdown",
   "id": "884096d2-a629-4139-ae4f-8fa276ea705e",
   "metadata": {},
   "source": [
    "##### Question 3-  Write a RegEx pattern that matches a string that has an a followed by one or more b's"
   ]
  },
  {
   "cell_type": "code",
   "execution_count": 77,
   "id": "49743438-d1ec-45ad-8e25-3f0cd3ec7937",
   "metadata": {},
   "outputs": [
    {
     "name": "stdin",
     "output_type": "stream",
     "text": [
      "Input number of values:  5\n",
      "Input value:  bob\n",
      "Input value:  bbbbbob\n",
      "Input value:  bobbbbbbbbb\n",
      "Input value:  bob1\n",
      "Input value:  @#R TTVWEDR\n"
     ]
    },
    {
     "name": "stdout",
     "output_type": "stream",
     "text": [
      "Matches: ['bob', 'bobbbbbbbbb']\n"
     ]
    }
   ],
   "source": [
    "pattern = r'bob+'\n",
    "\n",
    "# use\n",
    "result = use()\n",
    "print(\"Matches:\", result)"
   ]
  },
  {
   "cell_type": "markdown",
   "id": "69841b0d-583b-4598-98c4-2d9e3d7dddde",
   "metadata": {},
   "source": [
    "##### Question 4- Write a RegEx pattern that matches a string that has an a followed by zero or one 'b'."
   ]
  },
  {
   "cell_type": "code",
   "execution_count": 83,
   "id": "9ddb6443-a064-43de-adb1-e721fe1f2d2f",
   "metadata": {},
   "outputs": [
    {
     "name": "stdin",
     "output_type": "stream",
     "text": [
      "Input number of values:  3\n",
      "Input value:  bo\n",
      "Input value:  bob\n",
      "Input value:  bobbbbb\n"
     ]
    },
    {
     "name": "stdout",
     "output_type": "stream",
     "text": [
      "Matches: ['bo', 'bob']\n"
     ]
    }
   ],
   "source": [
    "pattern = r'bob?'\n",
    "\n",
    "# use\n",
    "result = use()\n",
    "print(\"Matches:\", result) \n"
   ]
  },
  {
   "cell_type": "markdown",
   "id": "1cf13562-5df7-4246-af37-200969343b4c",
   "metadata": {},
   "source": [
    "##### Question 5- Write a RegEx pattern in python program that matches a string that has an a followed by three 'b'."
   ]
  },
  {
   "cell_type": "code",
   "execution_count": 88,
   "id": "b2513772-3925-4621-9ed4-35f8e6b27c26",
   "metadata": {},
   "outputs": [
    {
     "name": "stdin",
     "output_type": "stream",
     "text": [
      "Input number of values:  3\n",
      "Input value:  bob\n",
      "Input value:  bobb\n",
      "Input value:  bobbb\n"
     ]
    },
    {
     "name": "stdout",
     "output_type": "stream",
     "text": [
      "Matches: ['bobbb']\n"
     ]
    }
   ],
   "source": [
    "pattern = r'bob{3}'\n",
    "\n",
    "# use\n",
    "result = use()\n",
    "print(\"Matches:\", result)"
   ]
  },
  {
   "cell_type": "markdown",
   "id": "1d18da90-52c4-4b51-bdf4-0256887a3d0d",
   "metadata": {},
   "source": [
    "##### Question 6- Write a RegEx pattern in python program that matches a string that has an a followed by two to three 'b'."
   ]
  },
  {
   "cell_type": "code",
   "execution_count": 92,
   "id": "6bcafd41-4bfd-4864-92ba-f6dac42ea9b5",
   "metadata": {},
   "outputs": [
    {
     "name": "stdin",
     "output_type": "stream",
     "text": [
      "Input number of values:  3\n",
      "Input value:  bob\n",
      "Input value:  bobb\n",
      "Input value:  bobbb\n"
     ]
    },
    {
     "name": "stdout",
     "output_type": "stream",
     "text": [
      "Matches: ['bobb', 'bobbb']\n"
     ]
    }
   ],
   "source": [
    "pattern = r'bob{2,3}'\n",
    "\n",
    "# use\n",
    "result = use()\n",
    "print(\"Matches:\", result)"
   ]
  },
  {
   "cell_type": "markdown",
   "id": "64553ef8-db7d-4dea-8f37-eecd2408ea73",
   "metadata": {},
   "source": [
    "##### Question 7- Write a Python program that matches a string that has an 'a' followed by anything, ending in 'b'."
   ]
  },
  {
   "cell_type": "code",
   "execution_count": 117,
   "id": "6d8010ea-70f1-41cf-a663-8f996ece270f",
   "metadata": {},
   "outputs": [
    {
     "name": "stdout",
     "output_type": "stream",
     "text": [
      "Not matched!\n",
      "Not matched!\n",
      "Found a match!\n"
     ]
    }
   ],
   "source": [
    "pattern = r'a.*?b$'\n",
    "\n",
    "# use\n",
    "print(match(pattern,\"aback\")) \n",
    "print(match(pattern,\"about\")) \n",
    "print(match(pattern,\"adsfb\")) "
   ]
  },
  {
   "cell_type": "markdown",
   "id": "a7be7bee-675d-4a16-aab0-41119fa35d1d",
   "metadata": {},
   "source": [
    "##### Question 8- Write a RegEx pattern in python program that matches a word at the beginning of a string."
   ]
  },
  {
   "cell_type": "code",
   "execution_count": 120,
   "id": "adbfdeb8-15d9-46b5-b749-55116b215a8c",
   "metadata": {},
   "outputs": [
    {
     "name": "stdout",
     "output_type": "stream",
     "text": [
      "Found a match!\n",
      "Not matched!\n"
     ]
    }
   ],
   "source": [
    "pattern = r'^\\w+'\n",
    "\n",
    "# use\n",
    "print(match(pattern,\"This is Aaryan\")) \n",
    "print(match(pattern,\" This is Aaryan\"))"
   ]
  },
  {
   "cell_type": "markdown",
   "id": "d0e326a2-e927-4910-9cf4-3701320ed92a",
   "metadata": {},
   "source": [
    "##### Question 9- Write a RegEx pattern in python program that matches a word at the end of a string."
   ]
  },
  {
   "cell_type": "code",
   "execution_count": 123,
   "id": "e1d0c641-bc60-4b31-93dd-ec43d255706e",
   "metadata": {},
   "outputs": [
    {
     "name": "stdout",
     "output_type": "stream",
     "text": [
      "Found a match!\n",
      "Not matched!\n"
     ]
    }
   ],
   "source": [
    "pattern = r'\\b\\w+\\b$'\n",
    "\n",
    "# use\n",
    "print(match(pattern,\"This is Aaryan\")) \n",
    "print(match(pattern,\"This is Aaryan \"))"
   ]
  },
  {
   "cell_type": "markdown",
   "id": "acedc6e7-6504-4883-aeec-53b1dc12d875",
   "metadata": {},
   "source": [
    "##### Question 10- Write a RegEx pattern in python program to find all words that are 4 digits long in a string.\r\n",
    "Sample text- '01 0132 231875 1458 301 2725.'\r\n",
    "Expected output- ['0132', '1458', '2725']\r\n"
   ]
  },
  {
   "cell_type": "code",
   "execution_count": 127,
   "id": "c5f84655-f79f-4057-bb4f-04b779ab912d",
   "metadata": {},
   "outputs": [
    {
     "name": "stdout",
     "output_type": "stream",
     "text": [
      "Output: ['0132', '1458', '2725']\n"
     ]
    }
   ],
   "source": [
    "def find(text):\n",
    "    pattern = r'\\b\\d{4}\\b'\n",
    "    return re.findall(pattern, text)\n",
    "\n",
    "# Example usage:\n",
    "\n",
    "result = find( '01 0132 231875 1458 301 2725.' )\n",
    "print(\"Output:\", result)\n"
   ]
  }
 ],
 "metadata": {
  "kernelspec": {
   "display_name": "Python 3 (ipykernel)",
   "language": "python",
   "name": "python3"
  },
  "language_info": {
   "codemirror_mode": {
    "name": "ipython",
    "version": 3
   },
   "file_extension": ".py",
   "mimetype": "text/x-python",
   "name": "python",
   "nbconvert_exporter": "python",
   "pygments_lexer": "ipython3",
   "version": "3.11.7"
  }
 },
 "nbformat": 4,
 "nbformat_minor": 5
}
