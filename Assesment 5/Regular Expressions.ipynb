{
 "cells": [
  {
   "cell_type": "markdown",
   "id": "44b8fd6e",
   "metadata": {},
   "source": [
    "# Regular Expressions"
   ]
  },
  {
   "cell_type": "code",
   "execution_count": 307,
   "id": "06c3b098",
   "metadata": {},
   "outputs": [],
   "source": [
    "import re \n",
    "import pandas as trex"
   ]
  },
  {
   "cell_type": "markdown",
   "id": "d473ee37",
   "metadata": {},
   "source": [
    "**Question 1**- Write a Python program to replace all occurrences of a space, comma, or dot with a colon. \\\n",
    "Sample Text- 'Python Exercises, PHP exercises.' \\\n",
    "Expected Output: Python:Exercises::PHP:exercises:"
   ]
  },
  {
   "cell_type": "code",
   "execution_count": 308,
   "id": "48f1b691",
   "metadata": {},
   "outputs": [
    {
     "name": "stdout",
     "output_type": "stream",
     "text": [
      "Python:Exercises::PHP:exercises:\n"
     ]
    }
   ],
   "source": [
    "def idk(text):\n",
    "    pattern  = re.sub(r'[ ,.]', ':', text)\n",
    "    return pattern\n",
    "\n",
    "text = 'Python Exercises, PHP exercises.'\n",
    "\n",
    "print(idk(text))"
   ]
  },
  {
   "cell_type": "markdown",
   "id": "ebc144f3",
   "metadata": {},
   "source": [
    "**Question 2**-  Create a dataframe using the dictionary below and remove everything (commas (,), !, XXXX, ;, etc.) from the columns except words. \\\n",
    "Dictionary- {'SUMMARY' : ['hello, world!', 'XXXXX test', '123four, five:; six...']} \\\n",
    "Expected output- \\\n",
    "0      hello world \\\n",
    "1             test \\\n",
    "2    four five six\n"
   ]
  },
  {
   "cell_type": "code",
   "execution_count": 309,
   "id": "59fe004c",
   "metadata": {},
   "outputs": [
    {
     "name": "stdout",
     "output_type": "stream",
     "text": [
      "         SUMMARY\n",
      "0    hello world\n",
      "1           test\n",
      "2  four five six\n"
     ]
    }
   ],
   "source": [
    "df = trex.DataFrame({'SUMMARY' : ['hello, world!', 'XXXXX test', '123four, five:; six...']})\n",
    "\n",
    "def do_something(df):\n",
    "    df['SUMMARY'] = df['SUMMARY'].str.replace(r'X+', '', regex=True)\n",
    "    df['SUMMARY'] = df['SUMMARY'].str.replace(r'[^a-zA-Z\\s]', '', regex=True)\n",
    "    df['SUMMARY'] = df['SUMMARY'].str.strip()\n",
    "    return df\n",
    "\n",
    "print(do_something(df))\n",
    "\n",
    "# this made me re-think my whole life"
   ]
  },
  {
   "cell_type": "markdown",
   "id": "6478268f",
   "metadata": {},
   "source": [
    "**Question 3**- Create a function in python to find all words that are at least 4 characters long in a string. The use of the re.compile() method is mandatory.\n"
   ]
  },
  {
   "cell_type": "code",
   "execution_count": 310,
   "id": "36f0b766",
   "metadata": {},
   "outputs": [
    {
     "name": "stdout",
     "output_type": "stream",
     "text": [
      "['Once', 'upon', 'time', 'world', 'long', 'before', 'humans', 'walked', 'earth', 'there', 'lived', 'dinosaur', 'named', 'Taro', 'Taro', 'wasn', 'like', 'other', 'dinosaurs', 'While', 'they', 'spent', 'their', 'days', 'herds', 'stomping', 'through', 'forests', 'roaring', 'together', 'Taro', 'preferred', 'quiet', 'corners', 'prehistoric', 'world', 'gentle', 'giant', 'with', 'scales', 'that', 'shimmered', 'soft', 'green', 'eyes', 'that', 'held', 'deep', 'thoughtful', 'gaze', 'Taro', 'loved', 'watch', 'sunset', 'every', 'evening', 'from', 'high', 'hill', 'where', 'could', 'turn', 'colors', 'that', 'could', 'only', 'dream', 'would', 'there', 'hours', 'long', 'neck', 'stretched', 'other', 'dinosaurs', 'below', 'bellowed', 'played', 'Taro', 'felt', 'different', 'didn', 'enjoy', 'loud', 'games', 'rough', 'tumble', 'life', 'herd', 'liked', 'think', 'imagine', 'wonder', 'much', 'Taro', 'loved', 'solitude', 'also', 'made', 'feel', 'incredibly', 'lonely', 'other', 'dinosaurs', 'began', 'notice', 'that', 'Taro', 'always', 'himself', 'They', 'didn', 'understand', 'quiet', 'ways', 'started', 'avoid', 'They', 'called', 'strange', 'whispered', 'behind', 'back', 'When', 'Taro', 'would', 'join', 'them', 'they', 'would', 'laugh', 'away', 'leaving', 'standing', 'there', 'feeling', 'more', 'alone', 'than', 'ever', 'Taro', 'began', 'spend', 'even', 'more', 'time', 'himself', 'wandering', 'further', 'away', 'from', 'herd', 'found', 'comfort', 'ancient', 'trees', 'sound', 'wind', 'loneliness', 'heart', 'grew', 'heavier', 'each', 'wondered', 'different', 'couldn', 'like', 'others', 'Taro', 'would', 'often', 'awake', 'night', 'staring', 'stars', 'wishing', 'could', 'find', 'place', 'where', 'belonged', 'Taro', 'wandering', 'through', 'dense', 'forest', 'came', 'across', 'small', 'sparkling', 'pond', 'water', 'crystal', 'clear', 'Taro', 'gazed', 'into', 'reflection', 'staring', 'back', 'this', 'time', 'didn', 'just', 'lonely', 'dinosaur', 'someone', 'kind', 'loved', 'beauty', 'world', 'around', 'someone', 'thought', 'deeply', 'felt', 'deeply', 'first', 'time', 'Taro', 'differences', 'flaws', 'something', 'that', 'made', 'unique', 'pond', 'Taro', 'made', 'decision', 'might', 'never', 'with', 'other', 'dinosaurs', 'that', 'okay', 'would', 'create', 'world', 'where', 'could', 'himself', 'without', 'fear', 'Taro', 'began', 'explore', 'even', 'more', 'discovering', 'hidden', 'valleys', 'secret', 'caves', 'learned', 'songs', 'birds', 'whispers', 'wind', 'even', 'made', 'friends', 'with', 'other', 'creatures', 'were', 'different', 'like', 'pterosaur', 'loved', 'quiet', 'skies', 'tiny', 'mammal', 'preferred', 'night', 'Taro', 'still', 'felt', 'sting', 'loneliness', 'times', 'found', 'something', 'more', 'valuable', 'acceptance', 'realized', 'that', 'being', 'different', 'wasn', 'something', 'ashamed', 'something', 'cherish', 'though', 'never', 'became', 'part', 'herd', 'again', 'found', 'kind', 'belonging', 'heart', 'world', 'around', 'heart', 'where', 'finally', 'found', 'peace', 'Taro', 'lived', 'days', 'lonely', 'dinosaur', 'once', 'thought', 'creature', 'discovered', 'beauty', 'being', 'himself', 'matter', 'different', 'that', 'made', 'feel']\n"
     ]
    }
   ],
   "source": [
    "def find_something(text):\n",
    "    pattern = re.compile(r'\\w{4,}')\n",
    "    long_words = pattern.findall(text)\n",
    "    return long_words\n",
    "\n",
    "sad_dinosaur_story = \"\"\"\n",
    "Once upon a time, in a world long before humans walked the earth, there lived a dinosaur named Taro. Taro wasn’t like the other dinosaurs. While they spent their days in herds, stomping through forests and roaring together, Taro preferred the quiet corners of the prehistoric world. He was a gentle giant, with scales that shimmered a soft green, and eyes that held a deep, thoughtful gaze.\n",
    "\n",
    "Taro loved to watch the sunset every evening from a high hill, where he could see the sky turn colors that he could only dream of. He would sit there for hours, his long neck stretched out, as the other dinosaurs below bellowed and played. But Taro felt different. He didn’t enjoy the loud games or the rough-and-tumble life of the herd. He liked to think, to imagine, and to wonder.\n",
    "\n",
    "But as much as Taro loved his solitude, it also made him feel incredibly lonely. The other dinosaurs began to notice that Taro was always by himself. They didn’t understand his quiet ways and started to avoid him. They called him strange and whispered behind his back. When Taro would try to join them, they would laugh and run away, leaving him standing there, feeling more alone than ever.\n",
    "\n",
    "Taro began to spend even more time by himself, wandering further away from the herd. He found comfort in the ancient trees and the sound of the wind, but the loneliness in his heart grew heavier each day. He wondered why he was so different, why he couldn’t be like the others. Taro would often lie awake at night, staring up at the stars, wishing he could find a place where he belonged.\n",
    "\n",
    "One day, as Taro was wandering through a dense forest, he came across a small, sparkling pond. The water was crystal clear, and as Taro gazed into it, he saw his reflection staring back at him. But this time, he didn’t just see a lonely dinosaur; he saw someone who was kind, who loved the beauty of the world around him, someone who thought deeply and felt deeply. For the first time, Taro saw his differences not as flaws, but as something that made him unique.\n",
    "\n",
    "As he sat by the pond, Taro made a decision. He might never fit in with the other dinosaurs, and that was okay. He would create his own world, where he could be himself without fear. So, Taro began to explore even more, discovering hidden valleys and secret caves. He learned the songs of the birds and the whispers of the wind. He even made friends with other creatures who were different, like a shy pterosaur who loved the quiet skies and a tiny mammal who preferred the night.\n",
    "\n",
    "Taro still felt the sting of loneliness at times, but he had found something more valuable: acceptance of who he was. He realized that being different wasn’t something to be ashamed of. It was something to cherish. And though he never became part of the herd again, he found a new kind of belonging—in the heart of the world around him, and in his own heart, where he had finally found peace.\n",
    "\n",
    "And so, Taro lived his days not as the lonely dinosaur he once thought he was, but as a creature who had discovered the beauty of being himself, no matter how different that made him feel.\n",
    "\"\"\"\n",
    "\n",
    "print(find_something(sad_dinosaur_story))"
   ]
  },
  {
   "cell_type": "markdown",
   "id": "4647bf4f",
   "metadata": {},
   "source": [
    "**Question 4**- Create a function in python to find all three, four, and five character words in a string. The use of the re.compile() method is mandatory."
   ]
  },
  {
   "cell_type": "code",
   "execution_count": 311,
   "id": "4cb7f7d9",
   "metadata": {},
   "outputs": [
    {
     "name": "stdout",
     "output_type": "stream",
     "text": [
      "['Once', 'upon', 'time', 'world', 'long', 'befor', 'human', 'walke', 'the', 'earth', 'there', 'lived', 'dinos', 'aur', 'named', 'Taro', 'Taro', 'wasn', 'like', 'the', 'other', 'dinos', 'aurs', 'While', 'they', 'spent', 'their', 'days', 'herds', 'stomp', 'ing', 'throu', 'fores', 'and', 'roari', 'toget', 'her', 'Taro', 'prefe', 'rred', 'the', 'quiet', 'corne', 'the', 'prehi', 'stori', 'world', 'was', 'gentl', 'giant', 'with', 'scale', 'that', 'shimm', 'ered', 'soft', 'green', 'and', 'eyes', 'that', 'held', 'deep', 'thoug', 'htful', 'gaze', 'Taro', 'loved', 'watch', 'the', 'sunse', 'every', 'eveni', 'from', 'high', 'hill', 'where', 'could', 'see', 'the', 'sky', 'turn', 'color', 'that', 'could', 'only', 'dream', 'would', 'sit', 'there', 'for', 'hours', 'his', 'long', 'neck', 'stret', 'ched', 'out', 'the', 'other', 'dinos', 'aurs', 'below', 'bello', 'wed', 'and', 'playe', 'But', 'Taro', 'felt', 'diffe', 'rent', 'didn', 'enjoy', 'the', 'loud', 'games', 'the', 'rough', 'and', 'tumbl', 'life', 'the', 'herd', 'liked', 'think', 'imagi', 'and', 'wonde', 'But', 'much', 'Taro', 'loved', 'his', 'solit', 'ude', 'also', 'made', 'him', 'feel', 'incre', 'dibly', 'lonel', 'The', 'other', 'dinos', 'aurs', 'began', 'notic', 'that', 'Taro', 'was', 'alway', 'himse', 'They', 'didn', 'under', 'stand', 'his', 'quiet', 'ways', 'and', 'start', 'avoid', 'him', 'They', 'calle', 'him', 'stran', 'and', 'whisp', 'ered', 'behin', 'his', 'back', 'When', 'Taro', 'would', 'try', 'join', 'them', 'they', 'would', 'laugh', 'and', 'run', 'away', 'leavi', 'him', 'stand', 'ing', 'there', 'feeli', 'more', 'alone', 'than', 'ever', 'Taro', 'began', 'spend', 'even', 'more', 'time', 'himse', 'wande', 'ring', 'furth', 'away', 'from', 'the', 'herd', 'found', 'comfo', 'the', 'ancie', 'trees', 'and', 'the', 'sound', 'the', 'wind', 'but', 'the', 'lonel', 'iness', 'his', 'heart', 'grew', 'heavi', 'each', 'day', 'wonde', 'red', 'why', 'was', 'diffe', 'rent', 'why', 'could', 'like', 'the', 'other', 'Taro', 'would', 'often', 'lie', 'awake', 'night', 'stari', 'the', 'stars', 'wishi', 'could', 'find', 'place', 'where', 'belon', 'ged', 'One', 'day', 'Taro', 'was', 'wande', 'ring', 'throu', 'dense', 'fores', 'came', 'acros', 'small', 'spark', 'ling', 'pond', 'The', 'water', 'was', 'cryst', 'clear', 'and', 'Taro', 'gazed', 'into', 'saw', 'his', 'refle', 'ction', 'stari', 'back', 'him', 'But', 'this', 'time', 'didn', 'just', 'see', 'lonel', 'dinos', 'aur', 'saw', 'someo', 'who', 'was', 'kind', 'who', 'loved', 'the', 'beaut', 'the', 'world', 'aroun', 'him', 'someo', 'who', 'thoug', 'deepl', 'and', 'felt', 'deepl', 'For', 'the', 'first', 'time', 'Taro', 'saw', 'his', 'diffe', 'rence', 'not', 'flaws', 'but', 'somet', 'hing', 'that', 'made', 'him', 'uniqu', 'sat', 'the', 'pond', 'Taro', 'made', 'decis', 'ion', 'might', 'never', 'fit', 'with', 'the', 'other', 'dinos', 'aurs', 'and', 'that', 'was', 'okay', 'would', 'creat', 'his', 'own', 'world', 'where', 'could', 'himse', 'witho', 'fear', 'Taro', 'began', 'explo', 'even', 'more', 'disco', 'verin', 'hidde', 'valle', 'and', 'secre', 'caves', 'learn', 'the', 'songs', 'the', 'birds', 'and', 'the', 'whisp', 'ers', 'the', 'wind', 'even', 'made', 'frien', 'with', 'other', 'creat', 'ures', 'who', 'were', 'diffe', 'rent', 'like', 'shy', 'ptero', 'saur', 'who', 'loved', 'the', 'quiet', 'skies', 'and', 'tiny', 'mamma', 'who', 'prefe', 'rred', 'the', 'night', 'Taro', 'still', 'felt', 'the', 'sting', 'lonel', 'iness', 'times', 'but', 'had', 'found', 'somet', 'hing', 'more', 'valua', 'ble', 'accep', 'tance', 'who', 'was', 'reali', 'zed', 'that', 'being', 'diffe', 'rent', 'wasn', 'somet', 'hing', 'asham', 'was', 'somet', 'hing', 'cheri', 'And', 'thoug', 'never', 'becam', 'part', 'the', 'herd', 'again', 'found', 'new', 'kind', 'belon', 'ging', 'the', 'heart', 'the', 'world', 'aroun', 'him', 'and', 'his', 'own', 'heart', 'where', 'had', 'final', 'found', 'peace', 'And', 'Taro', 'lived', 'his', 'days', 'not', 'the', 'lonel', 'dinos', 'aur', 'once', 'thoug', 'was', 'but', 'creat', 'ure', 'who', 'had', 'disco', 'vered', 'the', 'beaut', 'being', 'himse', 'matte', 'how', 'diffe', 'rent', 'that', 'made', 'him', 'feel']\n"
     ]
    }
   ],
   "source": [
    "def find_somethings(string):\n",
    "    pattern = re.compile(r'\\w{3,5}')\n",
    "    matches = pattern.findall(string)\n",
    "    return matches\n",
    "\n",
    "sad_dinosaur_story = \"\"\"\n",
    "Once upon a time, in a world long before humans walked the earth, there lived a dinosaur named Taro. Taro wasn’t like the other dinosaurs. While they spent their days in herds, stomping through forests and roaring together, Taro preferred the quiet corners of the prehistoric world. He was a gentle giant, with scales that shimmered a soft green, and eyes that held a deep, thoughtful gaze.\n",
    "\n",
    "Taro loved to watch the sunset every evening from a high hill, where he could see the sky turn colors that he could only dream of. He would sit there for hours, his long neck stretched out, as the other dinosaurs below bellowed and played. But Taro felt different. He didn’t enjoy the loud games or the rough-and-tumble life of the herd. He liked to think, to imagine, and to wonder.\n",
    "\n",
    "But as much as Taro loved his solitude, it also made him feel incredibly lonely. The other dinosaurs began to notice that Taro was always by himself. They didn’t understand his quiet ways and started to avoid him. They called him strange and whispered behind his back. When Taro would try to join them, they would laugh and run away, leaving him standing there, feeling more alone than ever.\n",
    "\n",
    "Taro began to spend even more time by himself, wandering further away from the herd. He found comfort in the ancient trees and the sound of the wind, but the loneliness in his heart grew heavier each day. He wondered why he was so different, why he couldn’t be like the others. Taro would often lie awake at night, staring up at the stars, wishing he could find a place where he belonged.\n",
    "\n",
    "One day, as Taro was wandering through a dense forest, he came across a small, sparkling pond. The water was crystal clear, and as Taro gazed into it, he saw his reflection staring back at him. But this time, he didn’t just see a lonely dinosaur; he saw someone who was kind, who loved the beauty of the world around him, someone who thought deeply and felt deeply. For the first time, Taro saw his differences not as flaws, but as something that made him unique.\n",
    "\n",
    "As he sat by the pond, Taro made a decision. He might never fit in with the other dinosaurs, and that was okay. He would create his own world, where he could be himself without fear. So, Taro began to explore even more, discovering hidden valleys and secret caves. He learned the songs of the birds and the whispers of the wind. He even made friends with other creatures who were different, like a shy pterosaur who loved the quiet skies and a tiny mammal who preferred the night.\n",
    "\n",
    "Taro still felt the sting of loneliness at times, but he had found something more valuable: acceptance of who he was. He realized that being different wasn’t something to be ashamed of. It was something to cherish. And though he never became part of the herd again, he found a new kind of belonging—in the heart of the world around him, and in his own heart, where he had finally found peace.\n",
    "\n",
    "And so, Taro lived his days not as the lonely dinosaur he once thought he was, but as a creature who had discovered the beauty of being himself, no matter how different that made him feel.\n",
    "\"\"\"\n",
    "\n",
    "print(find_somethings(sad_dinosaur_story))"
   ]
  },
  {
   "cell_type": "markdown",
   "id": "d34c0018",
   "metadata": {},
   "source": [
    "**Question 5**- Create a function in Python to remove the parenthesis in a list of strings. The use of the re.compile() method is mandatory. \\\n",
    "Sample Text: [\"example (.com)\", \"hr@fliprobo (.com)\", \"github (.com)\", \"Hello (Data Science World)\", \"Data (Scientist)\"] \\\n",
    "Expected Output: \\\n",
    "example.com \\\n",
    "hr@fliprobo.com \\\n",
    "github.com \\\n",
    "Hello Data Science World \\\n",
    "Data Scientist"
   ]
  },
  {
   "cell_type": "code",
   "execution_count": 313,
   "id": "f0424132",
   "metadata": {},
   "outputs": [
    {
     "name": "stdout",
     "output_type": "stream",
     "text": [
      "example .com\n",
      "hr@fliprobo .com\n",
      "github .com\n",
      "Hello Data Science World\n",
      "Data Scientist\n"
     ]
    }
   ],
   "source": [
    "def please_work(strings):\n",
    "    pattern = re.compile(r\"\\(|\\)\")\n",
    "    new_str = []\n",
    "    for value in strings:\n",
    "        i = re.sub(pattern, \"\", value)\n",
    "        new_str.append(i)\n",
    "    return new_str\n",
    "\n",
    "sample_text = [\"example (.com)\", \"hr@fliprobo (.com)\", \"github (.com)\", \"Hello (Data Science World)\", \"Data (Scientist)\"]\n",
    "\n",
    "for item in please_work(sample_text):\n",
    "    print(item)\n",
    "\n",
    "# the hardest question cuse it kept on braking like 50 to 60 times "
   ]
  },
  {
   "cell_type": "markdown",
   "id": "71500f45",
   "metadata": {},
   "source": [
    "**Question 6**- Write a python program to remove the parenthesis area from the text stored in the text file using Regular Expression. \\\n",
    "Sample Text: [\"example (.com)\", \"hr@fliprobo (.com)\", \"github (.com)\", \"Hello (Data Science World)\", \"Data (Scientist)\"] \\\n",
    "Expected Output: [\"example\", \"hr@fliprobo\", \"github\", \"Hello\", \"Data\"] \\\n",
    "Note- Store given sample text in the text file and then to remove the parenthesis area from the text."
   ]
  },
  {
   "cell_type": "code",
   "execution_count": 314,
   "id": "7da3de91",
   "metadata": {},
   "outputs": [
    {
     "name": "stdout",
     "output_type": "stream",
     "text": [
      "['example', 'hr@fliprobo', 'github', 'Hello', 'Data']\n"
     ]
    }
   ],
   "source": [
    "text = [\"example (.com)\", \"hr@fliprobo (.com)\", \"github (.com)\", \"Hello (Data Science World)\", \"Data (Scientist)\"] \n",
    "\n",
    "pattern = re.compile(r'\\s*\\(.*?\\)\\s*')\n",
    "\n",
    "with open('sample.txt', 'w') as f:\n",
    "    for line in text:\n",
    "        f.write(line + '\\n')\n",
    "\n",
    "with open('sample.txt', 'r') as f:\n",
    "    lines = f.readlines()\n",
    "\n",
    "result = [pattern.sub('', line).strip() for line in lines]\n",
    "print(result)"
   ]
  },
  {
   "cell_type": "markdown",
   "id": "6a4e7ce0",
   "metadata": {},
   "source": [
    "**Question 7**- Write a regular expression in Python to split a string into uppercase letters. \\\n",
    "Sample text: “ImportanceOfRegularExpressionsInPython” \\\n",
    "Expected Output: [‘Importance’, ‘Of’, ‘Regular’, ‘Expression’, ‘In’, ‘Python’] \n"
   ]
  },
  {
   "cell_type": "code",
   "execution_count": 315,
   "id": "befde140",
   "metadata": {},
   "outputs": [
    {
     "name": "stdout",
     "output_type": "stream",
     "text": [
      "['Importance', 'Of', 'Regular', 'Expressions', 'In', 'Python']\n"
     ]
    }
   ],
   "source": [
    "def do_something_i_want(text):\n",
    "    return re.findall(r'[A-Z][a-z]*', text)\n",
    "\n",
    "text = \"ImportanceOfRegularExpressionsInPython\"\n",
    "\n",
    "print(do_something_i_want(text))"
   ]
  },
  {
   "cell_type": "markdown",
   "id": "b2bb17b3",
   "metadata": {},
   "source": [
    "**Question 8**- Create a function in python to insert spaces between words starting with numbers. \\\n",
    "Sample Text: “RegularExpression1IsAn2ImportantTopic3InPython\" \\\n",
    "Expected Output: RegularExpression 1IsAn 2ImportantTopic 3InPython"
   ]
  },
  {
   "cell_type": "code",
   "execution_count": 316,
   "id": "3e3e529e",
   "metadata": {},
   "outputs": [
    {
     "name": "stdout",
     "output_type": "stream",
     "text": [
      "RegularExpression 1IsAn 2ImportantTopic 3InPython\n"
     ]
    }
   ],
   "source": [
    "def space_out(text):\n",
    "    return re.sub(r'(?<=[a-zA-Z])(\\d)', r' \\1', text)\n",
    "\n",
    "text = \"RegularExpression1IsAn2ImportantTopic3InPython\"\n",
    "\n",
    "print(space_out(text))\n",
    "\n",
    "# the past questions are testing my sanity "
   ]
  },
  {
   "cell_type": "markdown",
   "id": "51c4885d",
   "metadata": {},
   "source": [
    "**Question 9**- Create a function in python to insert spaces between words starting with capital letters or with numbers. \\\n",
    "Sample Text: “RegularExpression1IsAn2ImportantTopic3InPython\" \\\n",
    "Expected Output:  Regular Expression1 Is An2 Important Topic3 InPython "
   ]
  },
  {
   "cell_type": "code",
   "execution_count": 324,
   "id": "c9d470a5",
   "metadata": {},
   "outputs": [
    {
     "name": "stdout",
     "output_type": "stream",
     "text": [
      "Regular Expression1 Is An2 Important Topic3 In Python\n"
     ]
    }
   ],
   "source": [
    "def spacecenter(string):\n",
    "    pattern = r'([A-Z][a-z0-9]+|\\d+)'\n",
    "    result = re.sub(pattern, r' \\1', string)\n",
    "    result = result.strip()\n",
    "    return result\n",
    "\n",
    "sample_text = \"RegularExpression1IsAn2ImportantTopic3InPython\"\n",
    "\n",
    "print(spacecenter(sample_text))"
   ]
  },
  {
   "cell_type": "markdown",
   "id": "cc9f308b",
   "metadata": {},
   "source": [
    "**Question 10**- Use the github link below to read the data and create a dataframe. After creating the dataframe extract the first 6 letters of each country and store in the dataframe under a new column called first_five_letters. \\\n",
    "Github Link-  https://raw.githubusercontent.com/dsrscientist/DSData/master/happiness_score_dataset.csv"
   ]
  },
  {
   "cell_type": "code",
   "execution_count": 323,
   "id": "07d0ff10",
   "metadata": {
    "scrolled": false
   },
   "outputs": [
    {
     "name": "stdout",
     "output_type": "stream",
     "text": [
      "First few rows of the DataFrame:\n",
      "       Country          Region  Happiness Rank  Happiness Score  \\\n",
      "0  Switzerland  Western Europe               1            7.587   \n",
      "1      Iceland  Western Europe               2            7.561   \n",
      "2      Denmark  Western Europe               3            7.527   \n",
      "3       Norway  Western Europe               4            7.522   \n",
      "4       Canada   North America               5            7.427   \n",
      "\n",
      "   Standard Error  Economy (GDP per Capita)   Family  \\\n",
      "0         0.03411                   1.39651  1.34951   \n",
      "1         0.04884                   1.30232  1.40223   \n",
      "2         0.03328                   1.32548  1.36058   \n",
      "3         0.03880                   1.45900  1.33095   \n",
      "4         0.03553                   1.32629  1.32261   \n",
      "\n",
      "   Health (Life Expectancy)  Freedom  Trust (Government Corruption)  \\\n",
      "0                   0.94143  0.66557                        0.41978   \n",
      "1                   0.94784  0.62877                        0.14145   \n",
      "2                   0.87464  0.64938                        0.48357   \n",
      "3                   0.88521  0.66973                        0.36503   \n",
      "4                   0.90563  0.63297                        0.32957   \n",
      "\n",
      "   Generosity  Dystopia Residual  \n",
      "0     0.29678            2.51738  \n",
      "1     0.43630            2.70201  \n",
      "2     0.34139            2.49204  \n",
      "3     0.34699            2.46531  \n",
      "4     0.45811            2.45176  \n",
      "\n",
      "DataFrame with the new 'first_six_letters' column:\n",
      "       Country          Region  Happiness Rank  Happiness Score  \\\n",
      "0  Switzerland  Western Europe               1            7.587   \n",
      "1      Iceland  Western Europe               2            7.561   \n",
      "2      Denmark  Western Europe               3            7.527   \n",
      "3       Norway  Western Europe               4            7.522   \n",
      "4       Canada   North America               5            7.427   \n",
      "\n",
      "   Standard Error  Economy (GDP per Capita)   Family  \\\n",
      "0         0.03411                   1.39651  1.34951   \n",
      "1         0.04884                   1.30232  1.40223   \n",
      "2         0.03328                   1.32548  1.36058   \n",
      "3         0.03880                   1.45900  1.33095   \n",
      "4         0.03553                   1.32629  1.32261   \n",
      "\n",
      "   Health (Life Expectancy)  Freedom  Trust (Government Corruption)  \\\n",
      "0                   0.94143  0.66557                        0.41978   \n",
      "1                   0.94784  0.62877                        0.14145   \n",
      "2                   0.87464  0.64938                        0.48357   \n",
      "3                   0.88521  0.66973                        0.36503   \n",
      "4                   0.90563  0.63297                        0.32957   \n",
      "\n",
      "   Generosity  Dystopia Residual first_six_letters  \n",
      "0     0.29678            2.51738            Switze  \n",
      "1     0.43630            2.70201            Icelan  \n",
      "2     0.34139            2.49204            Denmar  \n",
      "3     0.34699            2.46531            Norway  \n",
      "4     0.45811            2.45176            Canada  \n"
     ]
    }
   ],
   "source": [
    "df = trex.read_csv(\"https://raw.githubusercontent.com/dsrscientist/DSData/master/happiness_score_dataset.csv\")\n",
    "\n",
    "print(\"First few rows of the DataFrame:\")\n",
    "print(df.head())\n",
    "\n",
    "df['first_six_letters'] = df['Country'].str[:6]\n",
    "\n",
    "print(\"\\nDataFrame with the new 'first_six_letters' column:\")\n",
    "print(df.head())\n",
    "\n",
    "# it works! "
   ]
  },
  {
   "cell_type": "markdown",
   "id": "523dc764",
   "metadata": {},
   "source": [
    "**Question 11**- Write a Python program to match a string that contains only upper and lowercase letters, numbers, and underscores."
   ]
  },
  {
   "cell_type": "code",
   "execution_count": 330,
   "id": "6d83601f",
   "metadata": {},
   "outputs": [
    {
     "name": "stdout",
     "output_type": "stream",
     "text": [
      "True\n",
      "False\n"
     ]
    }
   ],
   "source": [
    "def match(text):\n",
    "    pattern = re.compile(r'^[a-zA-Z0-9_]+$')\n",
    "    return bool(pattern.match(text))\n",
    "\n",
    "print(match(\"Aaryan890\"))\n",
    "\n",
    "print(match(\"Aaryan@\"))"
   ]
  },
  {
   "cell_type": "markdown",
   "id": "7ae31ba4",
   "metadata": {},
   "source": [
    "**Question 12**- Write a Python program where a string will start with a specific number. \n"
   ]
  },
  {
   "cell_type": "code",
   "execution_count": 331,
   "id": "0a6cf5a1",
   "metadata": {},
   "outputs": [
    {
     "name": "stdout",
     "output_type": "stream",
     "text": [
      "True\n",
      "False\n"
     ]
    }
   ],
   "source": [
    "def starts_with_no(text):\n",
    "    pattern = re.compile(r'^890.*')\n",
    "    return bool(pattern.match(text))\n",
    "\n",
    "print(starts_with_no(\"890Aaryan\")) \n",
    "print(starts_with_no(\"123Aaryan\")) "
   ]
  },
  {
   "cell_type": "markdown",
   "id": "1257eba0",
   "metadata": {},
   "source": [
    "**Question 13**- Write a Python program to remove leading zeros from an IP address"
   ]
  },
  {
   "cell_type": "code",
   "execution_count": 267,
   "id": "e2c6d6b0",
   "metadata": {},
   "outputs": [
    {
     "name": "stdout",
     "output_type": "stream",
     "text": [
      "103.8.89.1\n"
     ]
    }
   ],
   "source": [
    "def remove_zeros(ip):\n",
    "    return re.sub(r'\\b0+(\\d)', r'\\1', ip)\n",
    "\n",
    "ip_of_my_ = \"103.008.89.001\"\n",
    "\n",
    "print(remove_zeros(ip_of_my_))"
   ]
  },
  {
   "cell_type": "markdown",
   "id": "342ab6cb",
   "metadata": {},
   "source": [
    "**Question 14**- Write a regular expression in python to match a date string in the form of Month name followed by day number and year stored in a text file. \\\n",
    "Sample text :  ' On August 15th 1947 that India was declared independent from British colonialism, and the reins of control were handed over to the leaders of the Country’. \\\n",
    "Expected Output- August 15th 1947 \\\n",
    "Note- Store given sample text in the text file and then extract the date string asked format."
   ]
  },
  {
   "cell_type": "code",
   "execution_count": 333,
   "id": "97ea986d",
   "metadata": {},
   "outputs": [
    {
     "name": "stdout",
     "output_type": "stream",
     "text": [
      "['August 15th 1947']\n"
     ]
    }
   ],
   "source": [
    "def extractor(text):\n",
    "    pattern = re.compile(r'\\b[A-Za-z]+\\s\\d{1,2}(?:th|st|nd|rd)?\\s\\d{4}\\b')  #this made my head spin\n",
    "    return pattern.findall(text)\n",
    "\n",
    "text = 'On August 15th 1947, India was declared independent from British colonialism, and the reins of control were handed over to the leaders of the country'\n",
    "\n",
    "with open('date.txt', 'w') as f:\n",
    "    f.write(text)\n",
    "\n",
    "with open('date.txt', 'r') as f:\n",
    "    regected_data = f.read()\n",
    "\n",
    "print(extractor(regected_data))\n",
    "\n",
    "# new level unlocked and a migrane to.."
   ]
  },
  {
   "cell_type": "markdown",
   "id": "6c27ddc5",
   "metadata": {},
   "source": [
    "**Question 15**- Write a Python program to search some literals strings in a string. \\\n",
    "Sample text : 'The quick brown fox jumps over the lazy dog.' \\\n",
    "Searched words : 'fox', 'dog', 'horse'"
   ]
  },
  {
   "cell_type": "code",
   "execution_count": 334,
   "id": "6de252b9",
   "metadata": {},
   "outputs": [
    {
     "name": "stdout",
     "output_type": "stream",
     "text": [
      "{'fox': True, 'dog': True, 'horse': False}\n"
     ]
    }
   ],
   "source": [
    "text = 'The quick brown fox jumps over the lazy dog.'\n",
    "search_for_these_words_or_sleep_with_an_empty_stomach = ['fox', 'dog', 'horse']\n",
    "\n",
    "found_words = {word: bool(re.search(re.escape(word), text)) for word in search_for_these_words_or_sleep_with_an_empty_stomach}\n",
    "print(found_words)"
   ]
  },
  {
   "cell_type": "markdown",
   "id": "2043f414",
   "metadata": {},
   "source": [
    "**Question 16**- Write a Python program to search a literals string in a string and also find the location within the original string where the pattern occurs \\\n",
    "Sample text : 'The quick brown fox jumps over the lazy dog.' \\\n",
    "Searched words : 'fox'"
   ]
  },
  {
   "cell_type": "code",
   "execution_count": 335,
   "id": "ec56b7d7",
   "metadata": {},
   "outputs": [
    {
     "name": "stdout",
     "output_type": "stream",
     "text": [
      "16\n"
     ]
    }
   ],
   "source": [
    "def find_word_coordinates(text, word):\n",
    "    match = re.search(re.escape(word), text)\n",
    "    if match:\n",
    "        return match.start()\n",
    "    return -1\n",
    "\n",
    "text = 'The quick brown fox jumps over the lazy dog.'\n",
    "word = 'fox'\n",
    "print(find_word_coordinates(text, word))"
   ]
  },
  {
   "cell_type": "markdown",
   "id": "7dc51043",
   "metadata": {},
   "source": [
    "**Question 17**- Write a Python program to find the substrings within a string. \\\n",
    "Sample text : 'Python exercises, PHP exercises, C# exercises' \\\n",
    "Pattern : 'exercises'. \n"
   ]
  },
  {
   "cell_type": "code",
   "execution_count": 336,
   "id": "755b56de",
   "metadata": {},
   "outputs": [
    {
     "name": "stdout",
     "output_type": "stream",
     "text": [
      "['exercises', 'exercises', 'exercises']\n"
     ]
    }
   ],
   "source": [
    "text = 'Python exercises, PHP exercises, C# exercises'\n",
    "pattern = re.compile(r\"exercises\")              \n",
    "substrings = pattern.findall(text)\n",
    "print(substrings) "
   ]
  },
  {
   "cell_type": "markdown",
   "id": "c6169f17",
   "metadata": {},
   "source": [
    "**Question 18**- Write a Python program to find the occurrence and position of the substrings within a string.\n"
   ]
  },
  {
   "cell_type": "code",
   "execution_count": 337,
   "id": "d9978398",
   "metadata": {},
   "outputs": [
    {
     "name": "stdout",
     "output_type": "stream",
     "text": [
      "[('Genocide', 8), ('Genocide', 28), ('Genocide', 46), ('Genocide', 62)]\n"
     ]
    }
   ],
   "source": [
    "def find_occurrences(text, word):\n",
    "    matches = list(re.finditer(word, text))\n",
    "    return [(match.group(), match.start()) for match in matches]\n",
    "\n",
    "hitlers_schedule = \"morning Genocide, afternoon Genocide, evening Genocide, night Genocide\"\n",
    "word = 'Genocide'\n",
    "print(find_occurrences(hitlers_schedule, word))"
   ]
  },
  {
   "cell_type": "markdown",
   "id": "1f646852",
   "metadata": {},
   "source": [
    "**Question 19**- Write a Python program to convert a date of yyyy-mm-dd format to dd-mm-yyyy format.\n"
   ]
  },
  {
   "cell_type": "code",
   "execution_count": 338,
   "id": "23e16595",
   "metadata": {},
   "outputs": [
    {
     "name": "stdout",
     "output_type": "stream",
     "text": [
      "11-09-2001\n"
     ]
    }
   ],
   "source": [
    "def convert_date_into_etad(date):\n",
    "    return re.sub(r'(\\d{4})-(\\d{2})-(\\d{2})', r'\\3-\\2-\\1', date)\n",
    "\n",
    "date = '2001-09-11'\n",
    "print(convert_date_into_etad(date))\n"
   ]
  },
  {
   "cell_type": "markdown",
   "id": "2cd4cb50",
   "metadata": {},
   "source": [
    "**Question 20**- Create a function in python to find all decimal numbers with a precision of 1 or 2 in a string. The use of the re.compile() method is mandatory. \\\n",
    "Sample Text: \"01.12 0132.123 2.31875 145.8 3.01 27.25 0.25\" \\\n",
    "Expected Output: ['01.12', '145.8', '3.01', '27.25', '0.25']\n"
   ]
  },
  {
   "cell_type": "code",
   "execution_count": 339,
   "id": "34d318a2",
   "metadata": {},
   "outputs": [
    {
     "name": "stdout",
     "output_type": "stream",
     "text": [
      "['01.12', '145.8', '3.01', '27.25', '0.25']\n"
     ]
    }
   ],
   "source": [
    "def obduct_decimal_numbers(text):\n",
    "    pattern = re.compile(r'\\b\\d*\\.\\d{1,2}\\b')\n",
    "    return pattern.findall(text)\n",
    "\n",
    "text = \"01.12 0132.123 2.31875 145.8 3.01 27.25 0.25\" \n",
    "print(obduct_decimal_numbers(text))  # Output: ['01.12', '145.8', '3.01', '27.25', '0.25']\n"
   ]
  },
  {
   "cell_type": "markdown",
   "id": "f9841eb6",
   "metadata": {},
   "source": [
    "**Question 21**- Write a Python program to separate and print the numbers and their position of a given string.\n"
   ]
  },
  {
   "cell_type": "code",
   "execution_count": 340,
   "id": "41e4e473",
   "metadata": {},
   "outputs": [
    {
     "name": "stdout",
     "output_type": "stream",
     "text": [
      "[('1933', 125), ('1945', 544), ('1945', 587)]\n"
     ]
    }
   ],
   "source": [
    "def racism_on_number(text):\n",
    "    matches = re.finditer(r'\\d+', text)\n",
    "    result = []\n",
    "    for match in matches:\n",
    "        number = match.group() \n",
    "        start_position = match.start() \n",
    "        result.append((number, start_position)) \n",
    "    return result \n",
    "\n",
    "text = \"Adolf Hitler was the leader of the National Socialist German Workers' Party (Nazi Party) and became Chancellor of Germany in 1933. He later assumed the title of Führer, establishing a totalitarian regime marked by aggressive expansionism, extreme nationalism, and racist ideologies. Hitler's policies led to World War II and the Holocaust, during which six million Jews and millions of others were systematically murdered. His regime was characterized by widespread atrocities and human rights abuses, ultimately leading to Germany's defeat in 1945 and his own death by suicide in April 1945.\"\n",
    "print(racism_on_number(text))"
   ]
  },
  {
   "cell_type": "markdown",
   "id": "d7890216",
   "metadata": {},
   "source": [
    "**Question 22**- Write a regular expression in python program to extract maximum/largest numeric value from a string. \\\n",
    "Sample Text:  'My marks in each semester are: 947, 896, 926, 524, 734, 950, 642' \\\n",
    "Expected Output: 950\n"
   ]
  },
  {
   "cell_type": "code",
   "execution_count": 341,
   "id": "8950fffd",
   "metadata": {},
   "outputs": [
    {
     "name": "stdout",
     "output_type": "stream",
     "text": [
      "950\n"
     ]
    }
   ],
   "source": [
    "def find_my_big_boy(text):\n",
    "    numbers = list(map(int, re.findall(r'\\d+', text)))\n",
    "    if numbers:\n",
    "        return max(numbers)\n",
    "    else :\n",
    "        None\n",
    "\n",
    "text = 'My marks in each semester are: 947, 896, 926, 524, 734, 950, 642' \n",
    "print(find_my_big_boy(text))"
   ]
  },
  {
   "cell_type": "markdown",
   "id": "d1fa8bd9",
   "metadata": {},
   "source": [
    "**Question 23**- Create a function in python to insert spaces between words starting with capital letters. \\\n",
    "Sample Text: “RegularExpressionIsAnImportantTopicInPython\" \\\n",
    "Expected Output: Regular Expression Is An Important Topic In Python \n"
   ]
  },
  {
   "cell_type": "code",
   "execution_count": 342,
   "id": "8f1e0867",
   "metadata": {},
   "outputs": [
    {
     "name": "stdout",
     "output_type": "stream",
     "text": [
      "Regular Expression Is An Important Topic In Python\n"
     ]
    }
   ],
   "source": [
    "def spaced_out(text):\n",
    "    return re.sub(r'([a-z])([A-Z])', r'\\1 \\2', text)\n",
    "\n",
    "text = \"RegularExpressionIsAnImportantTopicInPython\"\n",
    "\n",
    "print(spaced_out(text)) "
   ]
  },
  {
   "cell_type": "markdown",
   "id": "92989aa0",
   "metadata": {},
   "source": [
    "**Question 24**- Python regex to find sequences of one upper case letter followed by lower case letters\n"
   ]
  },
  {
   "cell_type": "code",
   "execution_count": 343,
   "id": "92f84db5",
   "metadata": {},
   "outputs": [
    {
     "name": "stdout",
     "output_type": "stream",
     "text": [
      "['Aaryan', 'Ananya', 'Vachas', 'Manual']\n"
     ]
    }
   ],
   "source": [
    "def the_less_i_know_the_better(text):\n",
    "    pattern = re.compile(r'\\b[A-Z][a-z]+\\b')\n",
    "    return pattern.findall(text)\n",
    "\n",
    "text = 'Aaryan ankit Ananya Vachas Manual'\n",
    "\n",
    "print(the_less_i_know_the_better(text))"
   ]
  },
  {
   "cell_type": "markdown",
   "id": "9316030f",
   "metadata": {},
   "source": [
    "**Question 25**- Write a Python program to remove continuous duplicate words from Sentence using Regular Expression. \\\n",
    "Sample Text: \"Hello hello world world\" \\\n",
    "Expected Output: Hello hello world\n"
   ]
  },
  {
   "cell_type": "code",
   "execution_count": 344,
   "id": "43bb49a2",
   "metadata": {},
   "outputs": [
    {
     "name": "stdout",
     "output_type": "stream",
     "text": [
      "Hello hello world\n"
     ]
    }
   ],
   "source": [
    "def remove_judwaa_str(string):\n",
    "    return re.sub(r'\\b(\\w+)\\s+\\1\\b', r'\\1', string)\n",
    "\n",
    "text = \"Hello hello world world\"\n",
    "print(remove_judwaa_str(text)) "
   ]
  },
  {
   "cell_type": "markdown",
   "id": "0349f599",
   "metadata": {},
   "source": [
    "**Question 26**-  Write a python program using RegEx to accept string ending with alphanumeric character.\n"
   ]
  },
  {
   "cell_type": "code",
   "execution_count": 345,
   "id": "d9734f37",
   "metadata": {},
   "outputs": [
    {
     "name": "stdout",
     "output_type": "stream",
     "text": [
      "False\n",
      "True\n"
     ]
    }
   ],
   "source": [
    "def alpha_character(text):\n",
    "    pattern = re.compile(r'[a-zA-Z0-9]$')\n",
    "    return bool(pattern.search(text))\n",
    "\n",
    "text = \"please dont cut my marks!\"\n",
    "文本 = \"Please, Don't cut my marks for this\"\n",
    "print(alpha_character(text))\n",
    "print(alpha_character(文本))\n"
   ]
  },
  {
   "cell_type": "markdown",
   "id": "8148486f",
   "metadata": {},
   "source": [
    "**Question 27**-Write a python program using RegEx to extract the hashtags. \\\n",
    "Sample Text:  \"\"\"RT @kapil_kausik: #Doltiwal I mean #xyzabc is \"hurt\" by #Demonetization as the same has rendered USELESS <ed><U+00A0><U+00BD><ed><U+00B1><U+0089> \"acquired funds\" No wo\"\"\" \\\n",
    "Expected Output: ['#Doltiwal', '#xyzabc', '#Demonetization']\n"
   ]
  },
  {
   "cell_type": "code",
   "execution_count": 346,
   "id": "9fde15b7",
   "metadata": {},
   "outputs": [
    {
     "name": "stdout",
     "output_type": "stream",
     "text": [
      "['#Doltiwal', '#xyzabc', '#Demonetization']\n"
     ]
    }
   ],
   "source": [
    "def extract_tags(text):\n",
    "    return re.findall(r'#\\w+', text)\n",
    "\n",
    "text = \"\"\"RT @kapil_kausik: #Doltiwal I mean #xyzabc is \"hurt\" by #Demonetization as the same has rendered USELESS <ed><U+00A0><U+00BD><ed><U+00B1><U+0089> \"acquired funds\" No wo\"\"\"\n",
    "print(extract_tags(text))"
   ]
  },
  {
   "cell_type": "markdown",
   "id": "6c59237d",
   "metadata": {},
   "source": [
    "**Question 28**- Write a python program using RegEx to remove <U+..> like symbols\n",
    "Check the below sample text, there are strange symbols something of the sort <U+..> all over the place. You need to come up with a general Regex expression that will cover all such symbols. \\\n",
    "Sample Text: \"@Jags123456 Bharat band on 28??<ed><U+00A0><U+00BD><ed><U+00B8><U+0082>Those who  are protesting #demonetization  are all different party leaders\" \\\n",
    "Expected Output: @Jags123456 Bharat band on 28??<ed><ed>Those who  are protesting #demonetization  are all different party leaders\n"
   ]
  },
  {
   "cell_type": "code",
   "execution_count": 347,
   "id": "ae400c24",
   "metadata": {},
   "outputs": [
    {
     "name": "stdout",
     "output_type": "stream",
     "text": [
      "@Jags123456 Bharat band on 28??<ed><ed>Those who  are protesting #demonetization  are all different party leaders\n"
     ]
    }
   ],
   "source": [
    "def 去除符号(text):\n",
    "    return re.sub(r'<U\\+[\\w\\d]+>', '', text)\n",
    "\n",
    "文本 = \"@Jags123456 Bharat band on 28??<ed><U+00A0><U+00BD><ed><U+00B8><U+0082>Those who  are protesting #demonetization  are all different party leaders\"\n",
    "print(去除符号(文本))  \n"
   ]
  },
  {
   "cell_type": "markdown",
   "id": "70e7411b",
   "metadata": {},
   "source": [
    "**Question 29**- Write a python program to extract dates from the text stored in the text file. \\\n",
    "Sample Text: Ron was born on 12-09-1992 and he was admitted to school 15-12-1999. \\\n",
    "Note- Store this sample text in the file and then extract dates.\n"
   ]
  },
  {
   "cell_type": "code",
   "execution_count": 348,
   "id": "11d6b331",
   "metadata": {},
   "outputs": [
    {
     "name": "stdout",
     "output_type": "stream",
     "text": [
      "['12-09-1992', '15-12-1999']\n"
     ]
    }
   ],
   "source": [
    "阿道夫·希特勒 = 'Ron was born on 12-09-1992 and he was admitted to school 15-12-1999.'\n",
    "\n",
    "pattern = re.compile(r'\\b\\d{2}-\\d{2}-\\d{4}\\b')\n",
    "\n",
    "with open('date_i_never_had_with_my_crush.txt', 'w') as f:\n",
    "    f.write(阿道夫·希特勒)\n",
    "\n",
    "with open('date_i_never_had_with_my_crush.txt', 'r') as f:\n",
    "    我不是种族主义者 = f.read()\n",
    "\n",
    "date_i_never_had_with_my_crush = pattern.findall(我不是种族主义者)\n",
    "print(date_i_never_had_with_my_crush)"
   ]
  },
  {
   "cell_type": "markdown",
   "id": "5c9f4680",
   "metadata": {},
   "source": [
    "**Question 30**- Create a function in python to remove all words from a string of length between 2 and 4. \\\n",
    "The use of the re.compile() method is mandatory. \\\n",
    "Sample Text: \"The following example creates an ArrayList with a capacity of 50 elements. 4 elements are then added to the ArrayList and the ArrayList is trimmed accordingly.\" \\\n",
    "Expected Output:  following example creates ArrayList a capacity elements. 4 elements added ArrayList ArrayList trimmed accordingly.\n",
    "\n"
   ]
  },
  {
   "cell_type": "code",
   "execution_count": 349,
   "id": "23de0ead",
   "metadata": {},
   "outputs": [
    {
     "name": "stdout",
     "output_type": "stream",
     "text": [
      "following example creates  ArrayList  a capacity   elements. 4 elements   added   ArrayList   ArrayList  trimmed accordingly.\n"
     ]
    }
   ],
   "source": [
    "def remove_something(text):\n",
    "    pattern = re.compile(r'\\b\\w{2,4}\\b')\n",
    "    return pattern.sub('', text).strip()\n",
    "\n",
    "sample_text = \"The following example creates an ArrayList with a capacity of 50 elements. 4 elements are then added to the ArrayList and the ArrayList is trimmed accordingly.\" \n",
    "print(remove_something(sample_text))  \n"
   ]
  },
  {
   "cell_type": "markdown",
   "id": "0030d564",
   "metadata": {},
   "source": [
    "**I hope this meets your expectations as I have practiced a lot on this through this website https://regex101.com/ and video lecture. The reason for my inconsistency in my work was due to many medical issues and high stress and blood pressure, which landed me in the hospital. I also had a panic attack. All of this was a result of my project to build a Linux distro, along with school work and learning data science. This might be okay for a college student, but as a 17-year-old class 12 commerce student, it was on a whole new level. But no need to worry, as I am fine now.**"
   ]
  }
 ],
 "metadata": {
  "kernelspec": {
   "display_name": "Python 3 (ipykernel)",
   "language": "python",
   "name": "python3"
  },
  "language_info": {
   "codemirror_mode": {
    "name": "ipython",
    "version": 3
   },
   "file_extension": ".py",
   "mimetype": "text/x-python",
   "name": "python",
   "nbconvert_exporter": "python",
   "pygments_lexer": "ipython3",
   "version": "3.12.3"
  }
 },
 "nbformat": 4,
 "nbformat_minor": 5
}
