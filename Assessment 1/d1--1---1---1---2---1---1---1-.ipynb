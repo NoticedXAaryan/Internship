{
 "cells": [
  {
   "cell_type": "markdown",
   "id": "d78a900b-56f4-4986-b558-b4c5ee5cef70",
   "metadata": {},
   "source": [
    "<Center><h1> MCQ  </h1>"
   ]
  },
  {
   "cell_type": "raw",
   "id": "baab55e3-bc50-4e11-996d-60937215a9a7",
   "metadata": {},
   "source": [
    "1. What will be the output of the following code snippet?\n",
    "def func(a, b):\n",
    " return b if a == 0 else func(b % a, a)\n",
    "print(func(30, 75))\n",
    "a) 10\n",
    "b) 20\n",
    "c) 15\n",
    "d) 0"
   ]
  },
  {
   "cell_type": "code",
   "execution_count": null,
   "id": "2ada683c-d174-429f-a55c-68341e9a0a03",
   "metadata": {},
   "outputs": [],
   "source": [
    "# C) 15"
   ]
  },
  {
   "cell_type": "raw",
   "id": "8ed6e12f-e210-47e1-8fe8-e7ddd64e66b7",
   "metadata": {},
   "source": [
    "2. numbers = (4, 7, 19, 2, 89, 45, 72, 22)\n",
    "sorted_numbers = sorted(numbers)\n",
    "even = lambda a: a % 2 == 0\n",
    "even_numbers = filter(even, sorted_numbers)\n",
    "print(type(even_numbers))\n",
    "a) Int\n",
    "b) Filter \n",
    "c) List \n",
    "d) Tuple"
   ]
  },
  {
   "cell_type": "code",
   "execution_count": null,
   "id": "5c2decd2-7048-4ddc-8f84-3fdd37b25f61",
   "metadata": {},
   "outputs": [],
   "source": [
    "# B) filter"
   ]
  },
  {
   "cell_type": "raw",
   "id": "6e51aa9d-1d9a-47ca-bbd0-08a531ed3bd2",
   "metadata": {},
   "source": [
    "3. As what datatype are the *args stored, when passed into\n",
    "a) Tuple\n",
    "b) List \n",
    "c) Dictionary \n",
    "d) none"
   ]
  },
  {
   "cell_type": "code",
   "execution_count": null,
   "id": "24d50bd4-4811-4154-aa3f-782198180e56",
   "metadata": {},
   "outputs": [],
   "source": [
    "# A) Tuple"
   ]
  },
  {
   "cell_type": "raw",
   "id": "64eb95d3-2531-48a4-876f-b428ca06840c",
   "metadata": {},
   "source": [
    "4. set1 = {14, 3, 55}\n",
    "set2 = {82, 49, 62}\n",
    "set3={99,22,17}\n",
    "print(len(set1 + set2 + set3))\n",
    "a) 105\n",
    "b) 270\n",
    "c) 0\n",
    "d) Error"
   ]
  },
  {
   "cell_type": "code",
   "execution_count": null,
   "id": "e02e582b-f349-4e4d-a6ef-ad9ac687fb63",
   "metadata": {},
   "outputs": [],
   "source": [
    "# D) Error"
   ]
  },
  {
   "cell_type": "raw",
   "id": "5ee6197d-f056-4b35-acd1-c9eb7dd7c8ca",
   "metadata": {},
   "source": [
    "5) What keyword is used in Python to raise exceptions?\n",
    "a) raise \n",
    "b) try \n",
    "c) goto \n",
    "d) except"
   ]
  },
  {
   "cell_type": "code",
   "execution_count": null,
   "id": "100f0898-084b-4e4c-a821-1ea9b06f006a",
   "metadata": {},
   "outputs": [],
   "source": [
    "# A) raise"
   ]
  },
  {
   "cell_type": "raw",
   "id": "1a74c662-b17f-4e28-add1-d5770b834479",
   "metadata": {},
   "source": [
    "6) Which of the following modules need to be imported to handle date time computations in \n",
    "Python?\n",
    "a) timedate\n",
    "b) date\n",
    "c) datetime\n",
    "d) time"
   ]
  },
  {
   "cell_type": "code",
   "execution_count": null,
   "id": "7d84ecb3-725f-4408-ad0c-7adcd2e56b56",
   "metadata": {},
   "outputs": [],
   "source": [
    "# C) datetime"
   ]
  },
  {
   "cell_type": "raw",
   "id": "08c9f945-6f88-4380-8566-550809e6ff0c",
   "metadata": {},
   "source": [
    "7) What will be the output of the following code snippet?\n",
    "print(4**3 + (7 + 5)**(1 + 1))\n",
    "a) 248\n",
    "b) 169\n",
    "c) 208\n",
    "d) 233"
   ]
  },
  {
   "cell_type": "code",
   "execution_count": null,
   "id": "5882845f-0f01-4259-8cb6-72c4ca609ee7",
   "metadata": {},
   "outputs": [],
   "source": [
    "# C) 208"
   ]
  },
  {
   "cell_type": "raw",
   "id": "ef7a66bc-d13f-491b-acf6-f12479a4db76",
   "metadata": {},
   "source": [
    "8) Which of the following functions converts date to corresponding time in Python?\n",
    "a) strptime\n",
    "b) strftime\n",
    "c) both a) and b)\n",
    "d) None"
   ]
  },
  {
   "cell_type": "code",
   "execution_count": null,
   "id": "fe1f0558-9f19-486f-99bc-3f5b9ee9f3e7",
   "metadata": {},
   "outputs": [],
   "source": [
    "# B) strftime"
   ]
  },
  {
   "cell_type": "raw",
   "id": "cec528a2-9715-4489-ad51-b4a8e0a16b1e",
   "metadata": {},
   "source": [
    "9) The python tuple is _____ in nature.\n",
    "a) mutable\n",
    "b)immutable\n",
    "c)unchangeable\n",
    "d) none"
   ]
  },
  {
   "cell_type": "code",
   "execution_count": null,
   "id": "20809a81-6c1d-4398-8049-557261637066",
   "metadata": {},
   "outputs": [],
   "source": [
    "# A) mutable"
   ]
  },
  {
   "cell_type": "raw",
   "id": "06752b1e-eeaf-44dc-b9c9-ff82e760407a",
   "metadata": {},
   "source": [
    "10)The ___ is a built-in function that returns a range object that consists series of integer numbers, which \n",
    "we can iterate using a for loop.\n",
    "A. range()\n",
    "B. set()\n",
    "C. dictionary{}\n",
    "D. None of the mentioned above"
   ]
  },
  {
   "cell_type": "code",
   "execution_count": null,
   "id": "364568af-6c1e-4e92-a920-87b6f21cc2a2",
   "metadata": {},
   "outputs": [],
   "source": [
    "# A) range()"
   ]
  },
  {
   "cell_type": "raw",
   "id": "c1fa9027-996d-4bf0-a634-5c706f7da28a",
   "metadata": {},
   "source": [
    "Question 11\n",
    "Amongst which of the following is a function which does not have any name?\n",
    "A. Del function\n",
    "B. Show function\n",
    "C. Lambda function\n",
    "D. None of the mentioned above"
   ]
  },
  {
   "cell_type": "code",
   "execution_count": null,
   "id": "1d93c4b8-8ab1-4f8a-8b0c-4fea0ecb557e",
   "metadata": {},
   "outputs": [],
   "source": [
    "# C) Lambda function"
   ]
  },
  {
   "cell_type": "raw",
   "id": "1dc0d8cd-7688-47fd-a031-34751a3434e6",
   "metadata": {},
   "source": [
    "Question 12\n",
    "The module Pickle is used to ___.\n",
    "A. Serializing Python object structure\n",
    "B. De-serializing Python object structure\n",
    "C. Both A and B\n",
    "D. None of the mentioned above"
   ]
  },
  {
   "cell_type": "code",
   "execution_count": null,
   "id": "9e175378-44c1-4219-972a-27fcd438a323",
   "metadata": {},
   "outputs": [],
   "source": [
    "# C) Lambda function"
   ]
  },
  {
   "cell_type": "raw",
   "id": "74986ebd-f6a7-41ab-95ad-d9b64f1c4792",
   "metadata": {},
   "source": [
    "Question 13\n",
    "Amongst which of the following is / are the method of convert Python objects for writing data in \n",
    "a binary file?\n",
    "A. set() method\n",
    "B. dump() method\n",
    "C. load() method\n",
    "D. None of the mentioned above"
   ]
  },
  {
   "cell_type": "code",
   "execution_count": null,
   "id": "3fc200d9-7134-4551-aa4f-b8fe33f06b3e",
   "metadata": {},
   "outputs": [],
   "source": [
    "# B) dump() method"
   ]
  },
  {
   "cell_type": "raw",
   "id": "4d564ad3-023e-4a82-b8ec-dfc5b176af45",
   "metadata": {},
   "source": [
    "14 Amongst which of the following is / are the method used to unpickling data from a binary file?\n",
    "A. load()\n",
    "B. set() method\n",
    "C. dump() method\n",
    "D. None of the mentioned above"
   ]
  },
  {
   "cell_type": "code",
   "execution_count": null,
   "id": "42ad9b52-7a27-48a3-aec8-b33d82092820",
   "metadata": {},
   "outputs": [],
   "source": [
    "# C) dump() method"
   ]
  },
  {
   "cell_type": "raw",
   "id": "2a4683dd-510a-4eed-b14b-24beaa36fe86",
   "metadata": {},
   "source": [
    "15.A text file contains only textual information consisting of ___.\n",
    "A. Alphabets\n",
    "B. Numbers\n",
    "C. Special symbols\n",
    "D. All of the mentioned above"
   ]
  },
  {
   "cell_type": "code",
   "execution_count": null,
   "id": "1fab219d-2b96-4323-928b-997ff3af9ae2",
   "metadata": {},
   "outputs": [],
   "source": [
    "# D) All of the mentioned above"
   ]
  },
  {
   "cell_type": "raw",
   "id": "ad69a961-dc6c-4040-b5fc-48049ad87505",
   "metadata": {},
   "source": [
    "16 Which Python code could replace the ellipsis (...) below to get the following output? (Select all that \n",
    "apply.)\n",
    "captains = {\n",
    " \"Enterprise\": \"Picard\",\n",
    " \"Voyager\": \"Janeway\",\n",
    " \"Defiant\": \"Sisko\",\n",
    "}\n",
    "Enterprise Picard,\n",
    " Voyager Janeway\n",
    " Defiant Sisko\n",
    "a) for ship, captain in captains.items():\n",
    " print(ship, captain)\n",
    "b) for ship in captains:\n",
    " print(ship, captains[ship])\n",
    "c) for ship in captains:\n",
    " print(ship, captains)\n",
    "d) both a and b"
   ]
  },
  {
   "cell_type": "code",
   "execution_count": null,
   "id": "504e7da1-fd0a-479e-9fa3-bc06ad09e2e5",
   "metadata": {},
   "outputs": [],
   "source": [
    "# D) both a and b"
   ]
  },
  {
   "cell_type": "raw",
   "id": "6f66daaa-26b0-4473-89f9-990d3122008e",
   "metadata": {},
   "source": [
    "17)Which of the following lines of code will create an empty dictionary named captains?\n",
    "a) captains = {dict}\n",
    "b) type(captains)\n",
    "c) captains.dict()\n",
    "d) captains = {}"
   ]
  },
  {
   "cell_type": "code",
   "execution_count": null,
   "id": "a3adab4f-0507-4a1f-9cad-bb925b5dd5ce",
   "metadata": {},
   "outputs": [],
   "source": [
    "# D) both a and b"
   ]
  },
  {
   "cell_type": "raw",
   "id": "11dcb53b-48b4-4dcf-921a-e4d94394c48b",
   "metadata": {},
   "source": [
    "18) Now you have your empty dictionary named captains. It’s time to add some data!\n",
    "Specifically, you want to add the key-value pairs \"Enterprise\": \"Picard\", \"Voyager\": \"Janeway\", \n",
    "and \"Defiant\": \"Sisko\".\n",
    "Which of the following code snippets will successfully add these key-value pairs to the \n",
    "existing captains dictionary?\n",
    "a) captains{\"Enterprise\" = \"Picard\"}\n",
    "captains{\"Voyager\" = \"Janeway\"}\n",
    "captains{\"Defiant\" = \"Sisko\"}\n",
    "b) captains[\"Enterprise\"] = \"Picard\"\n",
    "captains[\"Voyager\"] = \"Janeway\"\n",
    "captains[\"Defiant\"] = \"Sisko\"\n",
    "c) captains = {\n",
    " \"Enterprise\": \"Picard\",\n",
    " \"Voyager\": \"Janeway\",\n",
    " \"Defiant\": \"Sisko\",\n",
    "}\n",
    "d) None of the above"
   ]
  },
  {
   "cell_type": "code",
   "execution_count": null,
   "id": "791c3812-04df-485b-bfe7-057041afb90b",
   "metadata": {},
   "outputs": [],
   "source": [
    "# B) captains[\"Enterprise\"] = \"Picard\"\n",
    "#    captains[\"Voyager\"] = \"Janeway\"\n",
    "#    captains[\"Defiant\"] = \"Sisko\""
   ]
  },
  {
   "cell_type": "raw",
   "id": "9e88a513-1dba-4792-95ae-4ff37da07cbc",
   "metadata": {},
   "source": [
    "19 ) You’re really building out the Federation Starfleet now! Here’s what you have:\n",
    "captains = {\n",
    " \"Enterprise\": \"Picard\",\n",
    " \"Voyager\": \"Janeway\",\n",
    " \"Defiant\": \"Sisko\",\n",
    " \"Discovery\": \"unknown\",\n",
    "}Now, say you want to display the ship and captain names contained in the dictionary, but you also \n",
    "want to provide some additional context. How could you do it?\n",
    "a) for item in captains.items():\n",
    " print(f\"The [ship] is captained by [captain].\")\n",
    "b) for ship, captain in captains.items():\n",
    " print(f\"The {ship} is captained by {captain}.\")\n",
    "c) for captain, ship in captains.items():\n",
    " print(f\"The {ship} is captained by {captain}.\")\n",
    "d) All are correct"
   ]
  },
  {
   "cell_type": "code",
   "execution_count": null,
   "id": "af4a2eb9-5a85-413c-a1c0-9db18e5d23c6",
   "metadata": {},
   "outputs": [],
   "source": [
    "# (B) and (C) will give the expected result."
   ]
  },
  {
   "cell_type": "raw",
   "id": "36c27f50-3a7c-46fe-8633-5dc928f3d81c",
   "metadata": {},
   "source": [
    "20 ) You’ve created a dictionary, added data, checked for the existence of keys, and iterated over it with \n",
    "a for loop. Now you’re ready to delete a key from this dictionary:\n",
    "captains = {\n",
    " \"Enterprise\": \"Picard\",\n",
    " \"Voyager\": \"Janeway\",\n",
    " \"Defiant\": \"Sisko\",\n",
    " \"Discovery\": \"unknown\",\n",
    "}\n",
    "What statement will remove the entry for the key \"Discovery\"?\n",
    "a) del captains\n",
    "b) captains.remove()\n",
    "c) del captains[\"Discovery\"]\n",
    "d) captains[\"Discovery\"].pop()"
   ]
  },
  {
   "cell_type": "code",
   "execution_count": null,
   "id": "0fbba3d6-2c52-4008-91d5-58125d652f55",
   "metadata": {},
   "outputs": [],
   "source": [
    "# C) del captains[\"Discovery\"]"
   ]
  }
 ],
 "metadata": {
  "kernelspec": {
   "display_name": "Python 3 (ipykernel)",
   "language": "python",
   "name": "python3"
  },
  "language_info": {
   "codemirror_mode": {
    "name": "ipython",
    "version": 3
   },
   "file_extension": ".py",
   "mimetype": "text/x-python",
   "name": "python",
   "nbconvert_exporter": "python",
   "pygments_lexer": "ipython3",
   "version": "3.12.4"
  }
 },
 "nbformat": 4,
 "nbformat_minor": 5
}
